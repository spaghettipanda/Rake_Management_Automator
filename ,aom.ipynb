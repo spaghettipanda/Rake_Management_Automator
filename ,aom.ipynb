{
 "cells": [
  {
   "cell_type": "code",
   "execution_count": 13,
   "metadata": {},
   "outputs": [
    {
     "name": "stdout",
     "output_type": "stream",
     "text": [
      "2024-06-22 09:21:57.794900\n"
     ]
    }
   ],
   "source": [
    "# import base64\n",
    "# import requests\n",
    "# import pandas as pd\n",
    "# import selenium\n",
    "# import getpass\n",
    "# import tabulate\n",
    "# from contextlib import redirect_stdout\n",
    "# from selenium import webdriver\n",
    "\n",
    "# Custom Modules\n",
    "from shift_calc import get_now\n",
    "\n",
    "# Set/Get current datetime\n",
    "now = get_now()\n",
    "print(now)\n",
    "# Convert datetime to time format\n",
    "#now_time = shift_calc.convert_to_time(now)\n",
    "\n",
    "\n"
   ]
  }
 ],
 "metadata": {
  "kernelspec": {
   "display_name": "RVC_Automator",
   "language": "python",
   "name": "python3"
  },
  "language_info": {
   "codemirror_mode": {
    "name": "ipython",
    "version": 3
   },
   "file_extension": ".py",
   "mimetype": "text/x-python",
   "name": "python",
   "nbconvert_exporter": "python",
   "pygments_lexer": "ipython3",
   "version": "3.8.10 (tags/v3.8.10:3d8993a, May  3 2021, 11:48:03) [MSC v.1928 64 bit (AMD64)]"
  },
  "orig_nbformat": 4,
  "vscode": {
   "interpreter": {
    "hash": "f921fad4436556f1ccc5630866bcd1a92c290c76e6908ab4b28a9148f05cf060"
   }
  }
 },
 "nbformat": 4,
 "nbformat_minor": 2
}
