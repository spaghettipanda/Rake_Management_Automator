{
 "cells": [
  {
   "cell_type": "code",
   "execution_count": 11,
   "metadata": {},
   "outputs": [
    {
     "name": "stdout",
     "output_type": "stream",
     "text": [
      "Sunday 07:01 AM\n",
      "Weekend Day Shift\n",
      "Work Order required: True\n",
      "--------------------------------------\n",
      "\n"
     ]
    },
    {
     "ename": "KeyboardInterrupt",
     "evalue": "Interrupted by user",
     "output_type": "error",
     "traceback": [
      "\u001b[1;31m---------------------------------------------------------------------------\u001b[0m",
      "\u001b[1;31mKeyboardInterrupt\u001b[0m                         Traceback (most recent call last)",
      "Cell \u001b[1;32mIn[11], line 32\u001b[0m\n\u001b[0;32m     30\u001b[0m valid_input \u001b[39m=\u001b[39m \u001b[39mFalse\u001b[39;00m\n\u001b[0;32m     31\u001b[0m \u001b[39mwhile\u001b[39;00m(valid_input \u001b[39m==\u001b[39m \u001b[39mFalse\u001b[39;00m):\n\u001b[1;32m---> 32\u001b[0m         user_input \u001b[39m=\u001b[39m \u001b[39minput\u001b[39;49m(\u001b[39m'\u001b[39;49m\u001b[39mProceed? \u001b[39;49m\u001b[39m'\u001b[39;49m)\n\u001b[0;32m     33\u001b[0m         \u001b[39mif\u001b[39;00m (user_input \u001b[39m==\u001b[39m \u001b[39m'\u001b[39m\u001b[39mno\u001b[39m\u001b[39m'\u001b[39m \u001b[39mor\u001b[39;00m user_input \u001b[39m==\u001b[39m \u001b[39m'\u001b[39m\u001b[39mNo\u001b[39m\u001b[39m'\u001b[39m \u001b[39mor\u001b[39;00m user_input \u001b[39m==\u001b[39m \u001b[39m'\u001b[39m\u001b[39mNO\u001b[39m\u001b[39m'\u001b[39m \u001b[39mor\u001b[39;00m user_input \u001b[39m==\u001b[39m \u001b[39m'\u001b[39m\u001b[39mn\u001b[39m\u001b[39m'\u001b[39m \u001b[39mor\u001b[39;00m user_input \u001b[39m==\u001b[39m \u001b[39m'\u001b[39m\u001b[39mN\u001b[39m\u001b[39m'\u001b[39m \u001b[39mor\u001b[39;00m user_input \u001b[39m==\u001b[39m \u001b[39m'\u001b[39m\u001b[39mnO\u001b[39m\u001b[39m'\u001b[39m):\n\u001b[0;32m     34\u001b[0m             valid_input \u001b[39m=\u001b[39m \u001b[39mTrue\u001b[39;00m\n",
      "File \u001b[1;32mc:\\Users\\auwill\\Projects\\RVC_Automator\\lib\\site-packages\\ipykernel\\kernelbase.py:1282\u001b[0m, in \u001b[0;36mKernel.raw_input\u001b[1;34m(self, prompt)\u001b[0m\n\u001b[0;32m   1280\u001b[0m     msg \u001b[39m=\u001b[39m \u001b[39m\"\u001b[39m\u001b[39mraw_input was called, but this frontend does not support input requests.\u001b[39m\u001b[39m\"\u001b[39m\n\u001b[0;32m   1281\u001b[0m     \u001b[39mraise\u001b[39;00m StdinNotImplementedError(msg)\n\u001b[1;32m-> 1282\u001b[0m \u001b[39mreturn\u001b[39;00m \u001b[39mself\u001b[39;49m\u001b[39m.\u001b[39;49m_input_request(\n\u001b[0;32m   1283\u001b[0m     \u001b[39mstr\u001b[39;49m(prompt),\n\u001b[0;32m   1284\u001b[0m     \u001b[39mself\u001b[39;49m\u001b[39m.\u001b[39;49m_parent_ident[\u001b[39m\"\u001b[39;49m\u001b[39mshell\u001b[39;49m\u001b[39m\"\u001b[39;49m],\n\u001b[0;32m   1285\u001b[0m     \u001b[39mself\u001b[39;49m\u001b[39m.\u001b[39;49mget_parent(\u001b[39m\"\u001b[39;49m\u001b[39mshell\u001b[39;49m\u001b[39m\"\u001b[39;49m),\n\u001b[0;32m   1286\u001b[0m     password\u001b[39m=\u001b[39;49m\u001b[39mFalse\u001b[39;49;00m,\n\u001b[0;32m   1287\u001b[0m )\n",
      "File \u001b[1;32mc:\\Users\\auwill\\Projects\\RVC_Automator\\lib\\site-packages\\ipykernel\\kernelbase.py:1325\u001b[0m, in \u001b[0;36mKernel._input_request\u001b[1;34m(self, prompt, ident, parent, password)\u001b[0m\n\u001b[0;32m   1322\u001b[0m \u001b[39mexcept\u001b[39;00m \u001b[39mKeyboardInterrupt\u001b[39;00m:\n\u001b[0;32m   1323\u001b[0m     \u001b[39m# re-raise KeyboardInterrupt, to truncate traceback\u001b[39;00m\n\u001b[0;32m   1324\u001b[0m     msg \u001b[39m=\u001b[39m \u001b[39m\"\u001b[39m\u001b[39mInterrupted by user\u001b[39m\u001b[39m\"\u001b[39m\n\u001b[1;32m-> 1325\u001b[0m     \u001b[39mraise\u001b[39;00m \u001b[39mKeyboardInterrupt\u001b[39;00m(msg) \u001b[39mfrom\u001b[39;00m \u001b[39mNone\u001b[39;00m\n\u001b[0;32m   1326\u001b[0m \u001b[39mexcept\u001b[39;00m \u001b[39mException\u001b[39;00m:\n\u001b[0;32m   1327\u001b[0m     \u001b[39mself\u001b[39m\u001b[39m.\u001b[39mlog\u001b[39m.\u001b[39mwarning(\u001b[39m\"\u001b[39m\u001b[39mInvalid Message:\u001b[39m\u001b[39m\"\u001b[39m, exc_info\u001b[39m=\u001b[39m\u001b[39mTrue\u001b[39;00m)\n",
      "\u001b[1;31mKeyboardInterrupt\u001b[0m: Interrupted by user"
     ]
    }
   ],
   "source": [
    "# import base64\n",
    "# import requests\n",
    "# import pandas as pd\n",
    "# import selenium\n",
    "# import getpass\n",
    "# import tabulate\n",
    "# from contextlib import redirect_stdout\n",
    "# from selenium import webdriver\n",
    "\n",
    "# Custom Modules\n",
    "from shift_calc import *\n",
    "from input import *\n",
    "\n",
    "# Current Shift\n",
    "# Set/Get current datetime\n",
    "now = get_now()\n",
    "\n",
    "# Get Shift details as a string\n",
    "day_of_week = get_day_of_week(now)\n",
    "weekend_status = get_weekend_status(now)\n",
    "day_or_night_shift = get_day_or_night_shift(now)\n",
    "time = convert_to_time(now)\n",
    "shift = f'{day_of_week} {time}\\n{weekend_status} {day_or_night_shift}'\n",
    "print(shift)\n",
    "\n",
    "# Work Order Required?\n",
    "required = is_required(day_or_night_shift, weekend_status)\n",
    "print(f'Work Order required: {required}') # Print WO Required\n",
    "print('--------------------------------------\\n')\n",
    "if(required):\n",
    "    valid_input = False\n",
    "    while(valid_input == False):\n",
    "            \n",
    "            proceed_input = proceed_input()\n",
    "            if (proceed_input):\n",
    "                valid_input = True\n",
    "                print('Proceeding with script execution...')\n",
    "                print('--------------------------------------\\n')\n",
    "                break\n",
    "            else:\n",
    "                if(user_input == 'Yes' or user_input == 'yes' or user_input == 'Y' or user_input == 'y' or user_input == 'YES'):\n",
    "                    valid_input = True\n",
    "                    print('\\n[' + user_input + '] was entered.\\n')\n",
    "                    print('Proceeding with script execution...')\n",
    "                    print('--------------------------------------\\n')\n",
    "                    break\n",
    "                else:\n",
    "                    print('\\nERROR: Invalid Input!')\n",
    "                    print('[' + user_input + '] was entered.\\n')\n",
    "                    print('\\nPlease a valid input! [Yes/No/Y/N]')\n",
    "                    print('--------------------------------------\\n')\n",
    "                    continue\n",
    "else:\n",
    "     \n"
   ]
  }
 ],
 "metadata": {
  "kernelspec": {
   "display_name": "Rake_Management_Automator",
   "language": "python",
   "name": "python3"
  },
  "language_info": {
   "codemirror_mode": {
    "name": "ipython",
    "version": 3
   },
   "file_extension": ".py",
   "mimetype": "text/x-python",
   "name": "python",
   "nbconvert_exporter": "python",
   "pygments_lexer": "ipython3",
   "version": "3.8.10 (tags/v3.8.10:3d8993a, May  3 2021, 11:48:03) [MSC v.1928 64 bit (AMD64)]"
  },
  "orig_nbformat": 4,
  "vscode": {
   "interpreter": {
    "hash": "c562ced7e1ed92f48de9066c1c97a2167f8a031776ba8fb4b9e7f0a420749717"
   }
  }
 },
 "nbformat": 4,
 "nbformat_minor": 2
}
